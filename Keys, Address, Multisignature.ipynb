{
 "cells": [
  {
   "cell_type": "markdown",
   "id": "e6621fb9",
   "metadata": {},
   "source": [
    "# Generate Keys, Bitcoin address, Multisignature."
   ]
  },
  {
   "cell_type": "code",
   "execution_count": 1,
   "id": "8c0d0e8e",
   "metadata": {},
   "outputs": [
    {
     "name": "stdout",
     "output_type": "stream",
     "text": [
      "Requirement already satisfied: bitcoin in /opt/anaconda3/lib/python3.9/site-packages (1.1.42)\n",
      "Note: you may need to restart the kernel to use updated packages.\n"
     ]
    }
   ],
   "source": [
    "pip install bitcoin\n"
   ]
  },
  {
   "cell_type": "code",
   "execution_count": 2,
   "id": "f7138d96",
   "metadata": {},
   "outputs": [],
   "source": [
    "from bitcoin import *"
   ]
  },
  {
   "cell_type": "markdown",
   "id": "eab30db2",
   "metadata": {},
   "source": [
    "Generate a Private Key:"
   ]
  },
  {
   "cell_type": "code",
   "execution_count": 3,
   "id": "dd88db39",
   "metadata": {},
   "outputs": [
    {
     "name": "stdout",
     "output_type": "stream",
     "text": [
      "Private Key: a8e07cfab54afac8ec2607179887a9f8fcab877b9b2988ea25f7880cdcbc3205\n",
      "\n"
     ]
    }
   ],
   "source": [
    "my_private_key = random_key()\n",
    "print(\"Private Key: %s\\n\" % my_private_key)"
   ]
  },
  {
   "cell_type": "markdown",
   "id": "b0e7a611",
   "metadata": {},
   "source": [
    "Generate a public Key linked to the Private Key:"
   ]
  },
  {
   "cell_type": "code",
   "execution_count": 4,
   "id": "41893fc4",
   "metadata": {},
   "outputs": [
    {
     "name": "stdout",
     "output_type": "stream",
     "text": [
      "Public Key: 0492ac9cd4ace3dace245910b0622ca360477c36d07f8b67e0aa2982c64b8257f31a8d9162f4a3a5c1c0c63ad6bc8cc858546deaa2e14ecf73daa903cd68d7e71b\n",
      "\n"
     ]
    }
   ],
   "source": [
    "my_public_key = privtopub(my_private_key)\n",
    "print(\"Public Key: %s\\n\" % my_public_key)"
   ]
  },
  {
   "cell_type": "markdown",
   "id": "1fa7037d",
   "metadata": {},
   "source": [
    "Generate a Bitcoin Address:"
   ]
  },
  {
   "cell_type": "code",
   "execution_count": 5,
   "id": "e87ac7ad",
   "metadata": {},
   "outputs": [
    {
     "name": "stdout",
     "output_type": "stream",
     "text": [
      "Bitcoin Address: 1GGdKg4TLr6Ps5EdT97XLk63qNe8LJkCUo\n",
      "\n"
     ]
    }
   ],
   "source": [
    "my_address = pubtoaddr(my_public_key)\n",
    "print(\"Bitcoin Address: %s\\n\" % my_address)"
   ]
  },
  {
   "cell_type": "markdown",
   "id": "d0f161fb",
   "metadata": {},
   "source": [
    "Check if a Bitcoin address is legit: "
   ]
  },
  {
   "cell_type": "code",
   "execution_count": 6,
   "id": "3513bb82",
   "metadata": {},
   "outputs": [
    {
     "name": "stdout",
     "output_type": "stream",
     "text": [
      "[{'address': '1KokfmiMAkpnqDTt3aKVkrEf6Hsagpbz8B', 'value': 471797, 'output': '0b9b3e874638d8cbce4ff5fad651d740d6f5b9cee9503be9495a45b801f48bec:0', 'block_height': 668363, 'spend': '27815390ad05b8a49bc15ec364e0e320bab21aa5c46a6c5b2b79ac4c0ae9cbc1:4'}]\n"
     ]
    }
   ],
   "source": [
    "valid_address = '1KokfmiMAkpnqDTt3aKVkrEf6Hsagpbz8B'\n",
    "print(history(valid_address))"
   ]
  },
  {
   "cell_type": "markdown",
   "id": "a24be08a",
   "metadata": {},
   "source": [
    "Generate a Multisignature:"
   ]
  },
  {
   "cell_type": "code",
   "execution_count": 7,
   "id": "3b2317b9",
   "metadata": {},
   "outputs": [],
   "source": [
    "private_key1 = random_key()\n",
    "private_key2 = random_key()\n",
    "private_key3 = random_key()"
   ]
  },
  {
   "cell_type": "code",
   "execution_count": 8,
   "id": "5bda1946",
   "metadata": {},
   "outputs": [],
   "source": [
    "public_key1 = privtopub(private_key1)\n",
    "public_key2 = privtopub(private_key2)\n",
    "public_key3 = privtopub(private_key3)"
   ]
  },
  {
   "cell_type": "code",
   "execution_count": 9,
   "id": "df9ac239",
   "metadata": {},
   "outputs": [
    {
     "name": "stdout",
     "output_type": "stream",
     "text": [
      "My Multisignature Address: 3GBAESP1YtDsxBxLRLEV45VY9sxxN45KrD\n",
      "\n"
     ]
    }
   ],
   "source": [
    "my_mulit_sig = mk_multisig_script(private_key1, private_key2, private_key3, 2, 3)\n",
    "\n",
    "# 2, 3 means that out of 3 keys 2 must to agree on action to take. \n",
    "\n",
    "my_mulit_address = scriptaddr(my_mulit_sig)\n",
    "print(\"My Multisignature Address: %s\\n\" % my_mulit_address)"
   ]
  }
 ],
 "metadata": {
  "kernelspec": {
   "display_name": "Python 3 (ipykernel)",
   "language": "python",
   "name": "python3"
  },
  "language_info": {
   "codemirror_mode": {
    "name": "ipython",
    "version": 3
   },
   "file_extension": ".py",
   "mimetype": "text/x-python",
   "name": "python",
   "nbconvert_exporter": "python",
   "pygments_lexer": "ipython3",
   "version": "3.9.7"
  }
 },
 "nbformat": 4,
 "nbformat_minor": 5
}
